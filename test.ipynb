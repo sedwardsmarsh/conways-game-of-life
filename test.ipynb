{
 "cells": [
  {
   "cell_type": "markdown",
   "source": [
    "### Notebook for prototyping"
   ],
   "metadata": {
    "collapsed": false,
    "pycharm": {
     "name": "#%% md\n"
    }
   }
  },
  {
   "cell_type": "code",
   "execution_count": null,
   "outputs": [],
   "source": [
    "# imports and magics\n",
    "import numpy as np\n",
    "from matplotlib import pyplot as plt\n",
    "from matplotlib.animation import FuncAnimation, writers"
   ],
   "metadata": {
    "collapsed": false,
    "pycharm": {
     "name": "#%%\n"
    }
   }
  },
  {
   "cell_type": "code",
   "execution_count": null,
   "outputs": [],
   "source": [
    "# IMAGE RESOLUTION PARAMETERS\n",
    "# resolution (pixels, pixels) = dpi * width_inches , dpi * height_inches\n",
    "dpi = 100\n",
    "width_inches = 5\n",
    "height_inches = 5"
   ],
   "metadata": {
    "collapsed": false,
    "pycharm": {
     "name": "#%%\n"
    }
   }
  },
  {
   "cell_type": "code",
   "execution_count": null,
   "outputs": [],
   "source": [
    "# initialize image\n",
    "np.random.seed(0)\n",
    "test = np.random.randint(0, 2, (10, 10))\n",
    "\n",
    "# intialize figure & image\n",
    "fig = plt.figure(frameon=False)\n",
    "im = plt.imshow(test)\n",
    "\n",
    "# remove whitespace\n",
    "fig.set_size_inches(width_inches, height_inches)\n",
    "# fill the entire frame with the figure\n",
    "fig.subplots_adjust(left=0, bottom=0, right=1, top=1, wspace=0, hspace=0)\n",
    "# hide axis\n",
    "plt.axis('off')\n",
    "\n",
    "def animate(*args):\n",
    "    test = np.random.randint(0, 2, (20, 10))\n",
    "    im.set_array(test)\n",
    "    return im,\n",
    "\n",
    "anim = FuncAnimation(fig, animate, frames=200, interval=20, blit=True)\n",
    "anim.save('random_array.mp4', fps=10, extra_args=['-vcodec', 'h264'], dpi=dpi)"
   ],
   "metadata": {
    "collapsed": false,
    "pycharm": {
     "name": "#%%\n"
    }
   }
  }
 ],
 "metadata": {
  "kernelspec": {
   "display_name": "Python 3",
   "language": "python",
   "name": "python3"
  },
  "language_info": {
   "codemirror_mode": {
    "name": "ipython",
    "version": 2
   },
   "file_extension": ".py",
   "mimetype": "text/x-python",
   "name": "python",
   "nbconvert_exporter": "python",
   "pygments_lexer": "ipython2",
   "version": "2.7.6"
  }
 },
 "nbformat": 4,
 "nbformat_minor": 0
}